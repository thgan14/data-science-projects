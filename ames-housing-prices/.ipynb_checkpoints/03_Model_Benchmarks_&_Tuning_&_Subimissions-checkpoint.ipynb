{
 "cells": [
  {
   "cell_type": "code",
   "execution_count": 7,
   "metadata": {},
   "outputs": [],
   "source": [
    "import numpy as np\n",
    "import pandas as pd\n",
    "import patsy\n",
    "\n",
    "from sklearn.linear_model import Ridge, Lasso, ElasticNet, LinearRegression, RidgeCV, LassoCV, ElasticNetCV\n",
    "from sklearn.model_selection import cross_val_score\n",
    "from sklearn.model_selection import train_test_split\n",
    "from sklearn import metrics\n",
    "from sklearn.preprocessing import StandardScaler\n",
    "from sklearn.feature_selection import RFE\n",
    "import statsmodels as sm\n",
    "from statsmodels.stats.outliers_influence import variance_inflation_factor\n",
    "\n",
    "import matplotlib\n",
    "import matplotlib.pyplot as plt\n",
    "import seaborn as sns\n",
    "import sys\n",
    "plt.style.use('fivethirtyeight')\n",
    "\n",
    "%config InlineBackend.figure_format = 'retina'\n",
    "%matplotlib inline\n",
    "pd.set_option('display.max_rows', 500)\n",
    "pd.set_option('display.max_columns', 5000)\n",
    "pd.set_option('display.width', 1000)\n",
    "sys.path.append('/Users/ganeshsivam/Mods')\n",
    "import corr"
   ]
  },
  {
   "cell_type": "markdown",
   "metadata": {},
   "source": [
    "#### Model testing & tuning"
   ]
  },
  {
   "cell_type": "markdown",
   "metadata": {},
   "source": [
    "Create a function to create & test different linear regression models and return the one which fares the best. This function takes the data from the previous notebooks and runs Linear Regression, Lasso Regression & Ridge Regression using GridSeachCV to choose the best hyperparameters. The model with the best metrics is returned, results are stored in a dataframe and a kaggle submission is created for this particular trial. We will test different versions of our feature engineering as well as implent Recursive Feature Elimination using this function too "
   ]
  },
  {
   "cell_type": "code",
   "execution_count": 4,
   "metadata": {},
   "outputs": [],
   "source": [
    "def get_mod(test_name, df,fe=True,cols = None,train_file_path=None,test_file_path=None,sub_name=None):\n",
    "    sys.path.append('/Users/ganeshsivam/Mods')\n",
    "    import corr\n",
    "    if train_file_path:\n",
    "        train = pd.read_csv(train_file_path)\n",
    "        test = pd.read_csv(test_file_path)\n",
    "    elif fe == False:\n",
    "        train = pd.read_csv(\"./data/train_bef_FE.csv\")\n",
    "        test = pd.read_csv(\"./data/test_bef_FE.csv\")\n",
    "    else:\n",
    "        train = pd.read_csv('./data/train_final.csv')\n",
    "        test = pd.read_csv('./data/test_final.csv')\n",
    "    \n",
    "    X = train[[c for c in train.columns if c != \"SalePrice\"]]\n",
    "    if cols:\n",
    "        X = X[cols]\n",
    "        test = test[cols]\n",
    "    y = train['SalePrice']\n",
    "    X_train, X_test, y_train, y_test = train_test_split(X.values,y.values,test_size=0.2,random_state=42)\n",
    "    #print(X_train.shape)\n",
    "    scaler = StandardScaler()\n",
    "    scaler = scaler.fit(X_train)\n",
    "    X_train = scaler.transform(X_train)\n",
    "    X_test = scaler.transform(X_test)\n",
    "    X = scaler.transform(X)\n",
    "    test = test[[c for c in test.columns if c != \"SalePrice\"]]\n",
    "    test = scaler.transform(test)\n",
    "    \n",
    "    \n",
    "    lr = LinearRegression()\n",
    "    lr = lr.fit(X_train,y_train)\n",
    "    train_score = lr.score(X_train,y_train)\n",
    "    test_score = lr.score(X_test,y_test)\n",
    "    #return(y_test,y_pred)\n",
    "    y_pred = lr.predict(X_test)\n",
    "    temp_df = corr.reg_metrics(y_pred,y_test).transpose()\n",
    "    \n",
    "    temp_df.index = [\"Linear Regression\"]\n",
    "    temp_df.loc['Linear Regression',\"Model Train Score\"] = train_score\n",
    "    temp_df.loc['Linear Regression',\"Model Test Score\"] = test_score\n",
    "    #temp_df.loc['Linear Regression','Train RMSE'] = rmse_cv_train(lr)\n",
    "    #temp_df.loc['Linear Regression','Test RMSE'] = rmse_cv_test(lr)\n",
    "    d = pd.DataFrame()\n",
    "    d = d.append(temp_df,sort=True)\n",
    "    \n",
    "    from sklearn.model_selection import GridSearchCV\n",
    "    from sklearn.feature_selection import RFE\n",
    "    \n",
    "    lasso = Lasso(tol=0.0001)\n",
    "    params = {'alpha':np.linspace(100,2000,10)}\n",
    "    lasso_grid = GridSearchCV(lasso,params,cv=5,n_jobs=-1)\n",
    "    lasso_grid = lasso_grid.fit(X_train,y_train)\n",
    "    alpha = lasso_grid.best_params_['alpha']\n",
    "    n = np.random.normal(loc=alpha, scale=alpha*0.05, size=10)\n",
    "    params = {'alpha':n}\n",
    "    lasso_grid = GridSearchCV(lasso,params,cv=5,n_jobs=-1)\n",
    "    lasso_grid = lasso_grid.fit(X_train,y_train)\n",
    "    alpha = lasso_grid.best_params_['alpha']\n",
    "    ls = Lasso(alpha=alpha)\n",
    "    #selector = RFE(ls,200 ,step=1)\n",
    "    ls = ls.fit(X_train,y_train)\n",
    "    y_pred = ls.predict(X_test)\n",
    "    \n",
    "    train_score = ls.score(X_train,y_train)\n",
    "    test_score = ls.score(X_test,y_test)\n",
    "    #return(y_test,y_pred)\n",
    "    temp_df = corr.reg_metrics(y_pred,y_test).transpose()\n",
    "    \n",
    "    temp_df.index = [\"Lasso\"]\n",
    "    temp_df.loc[\"Lasso\",\"Model Train Score\"] = train_score\n",
    "    temp_df.loc[\"Lasso\",\"Model Test Score\"] = test_score\n",
    "    temp_df.loc[\"Lasso\",\"Alpha\"] = alpha\n",
    "    d = d.append(temp_df,sort=True)\n",
    "    \n",
    "    #from sklearn.model_selection import GridSearchCV\n",
    "    ridge = Ridge()\n",
    "    params = {'alpha':np.logspace(0.1,3,100)}\n",
    "    ridge_grid = GridSearchCV(ridge,params,cv=5,n_jobs=-1)\n",
    "    ridge_grid = ridge_grid.fit(X_train,y_train)\n",
    "    alpha = ridge_grid.best_params_['alpha']\n",
    "    n = np.random.normal(loc=alpha, scale=alpha*0.05, size=50)\n",
    "    params = {'alpha':n}\n",
    "    ridge_grid = GridSearchCV(ridge,params,cv=5,n_jobs=-1)\n",
    "    ridge_grid = ridge_grid.fit(X_train,y_train)\n",
    "    alpha = ridge_grid.best_params_['alpha']\n",
    "    ri = Ridge(alpha=alpha)\n",
    "    ri = ri.fit(X_train,y_train)\n",
    "    y_pred = ri.predict(X_test)\n",
    "    \n",
    "    train_score = ri.score(X_train,y_train)\n",
    "    test_score = ri.score(X_test,y_test)\n",
    "    #return(y_test,y_pred)\n",
    "    temp_df = corr.reg_metrics(y_pred,y_test).transpose()\n",
    "    \n",
    "    temp_df.index = [\"ridge\"]\n",
    "    temp_df.loc[\"ridge\",\"Model Train Score\"] = train_score\n",
    "    temp_df.loc[\"ridge\",\"Model Test Score\"] = test_score\n",
    "    temp_df.loc[\"ridge\",\"Alpha\"] = alpha\n",
    "    d = d.append(temp_df,sort=True)\n",
    "    \n",
    "    \n",
    "    d.sort_values(\"Mean Absolute Error\",inplace=True)\n",
    "    best_mod = d.index[0]\n",
    "    if best_mod == \"Lasso\":\n",
    "        mod = ls\n",
    "        y_pred = mod.predict(X_test)\n",
    "    elif best_mod == \"Linear Regression\":\n",
    "        mod = lr\n",
    "        y_pred = mod.predict(X_test)\n",
    "    elif best_mod == \"ridge\":\n",
    "        mod = ri\n",
    "        y_pred = mod.predict(X_test)\n",
    "    \n",
    "    l = [[test_name,best_mod,d.loc[best_mod,\"Alpha\"],d.loc[best_mod,\"R_squared\"],d.loc[best_mod,\"Mean Absolute Error\"]]]\n",
    "    y = pd.DataFrame(l,columns=df.columns)\n",
    "    df = df.append(y,sort=False)\n",
    "    df.reset_index(drop=True,inplace=True)\n",
    "    if sub_name:\n",
    "        create_sub(mod,test,name=sub_name)\n",
    "    return d,mod,scaler,df\n",
    "\n",
    "def create_sub(mod,test,name=\"\",):\n",
    "    \n",
    "   \n",
    "    op = mod.predict(test)\n",
    "    ids = pd.read_csv(\"./data/test_id.csv\")\n",
    "    ids =ids['Id']\n",
    "    sub = pd.DataFrame()\n",
    "    sub[\"Id\"] = ids\n",
    "    sub[\"SalePrice\"] = op\n",
    "    sub.to_csv('./Submissions/{}.csv'.format(name),index=False)"
   ]
  },
  {
   "cell_type": "markdown",
   "metadata": {},
   "source": [
    "### Create a dataframe to store our results"
   ]
  },
  {
   "cell_type": "code",
   "execution_count": 6,
   "metadata": {},
   "outputs": [
    {
     "ename": "NameError",
     "evalue": "name 'pd' is not defined",
     "output_type": "error",
     "traceback": [
      "\u001b[0;31m---------------------------------------------------------------------------\u001b[0m",
      "\u001b[0;31mNameError\u001b[0m                                 Traceback (most recent call last)",
      "\u001b[0;32m<ipython-input-6-bce2d666b1c1>\u001b[0m in \u001b[0;36m<module>\u001b[0;34m\u001b[0m\n\u001b[0;32m----> 1\u001b[0;31m \u001b[0mresults_df\u001b[0m \u001b[0;34m=\u001b[0m \u001b[0mpd\u001b[0m\u001b[0;34m.\u001b[0m\u001b[0mDataFrame\u001b[0m\u001b[0;34m(\u001b[0m\u001b[0mcolumns\u001b[0m\u001b[0;34m=\u001b[0m\u001b[0;34m[\u001b[0m\u001b[0;34m\"Test Name\"\u001b[0m\u001b[0;34m,\u001b[0m\u001b[0;34m\"Model used\"\u001b[0m\u001b[0;34m,\u001b[0m\u001b[0;34m\"Alpha\"\u001b[0m\u001b[0;34m,\u001b[0m\u001b[0;34m\"R-squared\"\u001b[0m\u001b[0;34m,\u001b[0m\u001b[0;34m\"Mean Absolute Error\"\u001b[0m\u001b[0;34m]\u001b[0m\u001b[0;34m)\u001b[0m\u001b[0;34m\u001b[0m\u001b[0;34m\u001b[0m\u001b[0m\n\u001b[0m",
      "\u001b[0;31mNameError\u001b[0m: name 'pd' is not defined"
     ]
    }
   ],
   "source": [
    "results_df = pd.DataFrame(columns=[\"Test Name\",\"Model used\",\"Alpha\",\"R-squared\",\"Mean Absolute Error\"])"
   ]
  },
  {
   "cell_type": "markdown",
   "metadata": {},
   "source": [
    "### Test our data before any feature engineering was implemented"
   ]
  },
  {
   "cell_type": "code",
   "execution_count": 5,
   "metadata": {
    "scrolled": true
   },
   "outputs": [
    {
     "ename": "NameError",
     "evalue": "name 'results_df' is not defined",
     "output_type": "error",
     "traceback": [
      "\u001b[0;31m---------------------------------------------------------------------------\u001b[0m",
      "\u001b[0;31mNameError\u001b[0m                                 Traceback (most recent call last)",
      "\u001b[0;32m<ipython-input-5-ae2039605f1e>\u001b[0m in \u001b[0;36m<module>\u001b[0;34m\u001b[0m\n\u001b[0;32m----> 1\u001b[0;31m \u001b[0mdf_no_fe\u001b[0m\u001b[0;34m,\u001b[0m\u001b[0mmod_no_fe\u001b[0m\u001b[0;34m,\u001b[0m\u001b[0mscaler\u001b[0m\u001b[0;34m,\u001b[0m\u001b[0mresults_df\u001b[0m \u001b[0;34m=\u001b[0m \u001b[0mget_mod\u001b[0m\u001b[0;34m(\u001b[0m\u001b[0mtest_name\u001b[0m\u001b[0;34m=\u001b[0m\u001b[0;34m\"No Feature Engineering\"\u001b[0m\u001b[0;34m,\u001b[0m\u001b[0mdf\u001b[0m\u001b[0;34m=\u001b[0m\u001b[0mresults_df\u001b[0m\u001b[0;34m,\u001b[0m\u001b[0mfe\u001b[0m\u001b[0;34m=\u001b[0m\u001b[0;32mFalse\u001b[0m\u001b[0;34m,\u001b[0m\u001b[0msub_name\u001b[0m \u001b[0;34m=\u001b[0m \u001b[0;34m\"NFE\"\u001b[0m\u001b[0;34m)\u001b[0m\u001b[0;34m\u001b[0m\u001b[0;34m\u001b[0m\u001b[0m\n\u001b[0m",
      "\u001b[0;31mNameError\u001b[0m: name 'results_df' is not defined"
     ]
    }
   ],
   "source": [
    "df_no_fe,mod_no_fe,scaler,results_df = get_mod(test_name=\"No Feature Engineering\",df=results_df,fe=False,sub_name = \"NFE\")"
   ]
  },
  {
   "cell_type": "code",
   "execution_count": 31,
   "metadata": {},
   "outputs": [
    {
     "data": {
      "text/html": [
       "<div>\n",
       "<style scoped>\n",
       "    .dataframe tbody tr th:only-of-type {\n",
       "        vertical-align: middle;\n",
       "    }\n",
       "\n",
       "    .dataframe tbody tr th {\n",
       "        vertical-align: top;\n",
       "    }\n",
       "\n",
       "    .dataframe thead th {\n",
       "        text-align: right;\n",
       "    }\n",
       "</style>\n",
       "<table border=\"1\" class=\"dataframe\">\n",
       "  <thead>\n",
       "    <tr style=\"text-align: right;\">\n",
       "      <th></th>\n",
       "      <th>Test Name</th>\n",
       "      <th>Model used</th>\n",
       "      <th>Alpha</th>\n",
       "      <th>R-squared</th>\n",
       "      <th>Mean Absolute Error</th>\n",
       "    </tr>\n",
       "  </thead>\n",
       "  <tbody>\n",
       "    <tr>\n",
       "      <td>0</td>\n",
       "      <td>No Feature Engineering</td>\n",
       "      <td>ridge</td>\n",
       "      <td>250.4640</td>\n",
       "      <td>0.9025</td>\n",
       "      <td>16071.1293</td>\n",
       "    </tr>\n",
       "  </tbody>\n",
       "</table>\n",
       "</div>"
      ],
      "text/plain": [
       "                Test Name Model used    Alpha  R-squared  Mean Absolute Error\n",
       "0  No Feature Engineering      ridge 250.4640     0.9025           16071.1293"
      ]
     },
     "execution_count": 31,
     "metadata": {},
     "output_type": "execute_result"
    }
   ],
   "source": [
    "results_df"
   ]
  },
  {
   "cell_type": "markdown",
   "metadata": {},
   "source": [
    "### Test after our feature engineering"
   ]
  },
  {
   "cell_type": "code",
   "execution_count": 32,
   "metadata": {},
   "outputs": [],
   "source": [
    "df_1_fe,mod_1_fe,scaler,results_df = get_mod(test_name=\"1st Feature Engineering\",df=results_df,fe=True,train_file_path=\"./data/train_nopoly.csv\",test_file_path=\"./data/test_nopoly.csv\",sub_name=\"1FE\")\n",
    "\n"
   ]
  },
  {
   "cell_type": "code",
   "execution_count": 33,
   "metadata": {},
   "outputs": [
    {
     "data": {
      "text/html": [
       "<div>\n",
       "<style scoped>\n",
       "    .dataframe tbody tr th:only-of-type {\n",
       "        vertical-align: middle;\n",
       "    }\n",
       "\n",
       "    .dataframe tbody tr th {\n",
       "        vertical-align: top;\n",
       "    }\n",
       "\n",
       "    .dataframe thead th {\n",
       "        text-align: right;\n",
       "    }\n",
       "</style>\n",
       "<table border=\"1\" class=\"dataframe\">\n",
       "  <thead>\n",
       "    <tr style=\"text-align: right;\">\n",
       "      <th></th>\n",
       "      <th>Test Name</th>\n",
       "      <th>Model used</th>\n",
       "      <th>Alpha</th>\n",
       "      <th>R-squared</th>\n",
       "      <th>Mean Absolute Error</th>\n",
       "    </tr>\n",
       "  </thead>\n",
       "  <tbody>\n",
       "    <tr>\n",
       "      <td>0</td>\n",
       "      <td>No Feature Engineering</td>\n",
       "      <td>ridge</td>\n",
       "      <td>250.4640</td>\n",
       "      <td>0.9025</td>\n",
       "      <td>16071.1293</td>\n",
       "    </tr>\n",
       "    <tr>\n",
       "      <td>1</td>\n",
       "      <td>1st Feature Engineering</td>\n",
       "      <td>ridge</td>\n",
       "      <td>289.4870</td>\n",
       "      <td>0.9025</td>\n",
       "      <td>15991.0874</td>\n",
       "    </tr>\n",
       "  </tbody>\n",
       "</table>\n",
       "</div>"
      ],
      "text/plain": [
       "                 Test Name Model used    Alpha  R-squared  Mean Absolute Error\n",
       "0   No Feature Engineering      ridge 250.4640     0.9025           16071.1293\n",
       "1  1st Feature Engineering      ridge 289.4870     0.9025           15991.0874"
      ]
     },
     "execution_count": 33,
     "metadata": {},
     "output_type": "execute_result"
    }
   ],
   "source": [
    "results_df"
   ]
  },
  {
   "cell_type": "markdown",
   "metadata": {},
   "source": [
    "### Our Mean Absolute Error & R-squared values have imporved after implementing Feature Engineering"
   ]
  },
  {
   "cell_type": "markdown",
   "metadata": {},
   "source": [
    "#### Made some changes to FE, added the polynomial features for the features with the strongest correlation to the target, let's see if this improves our scores"
   ]
  },
  {
   "cell_type": "code",
   "execution_count": 34,
   "metadata": {},
   "outputs": [],
   "source": [
    "df_2_fe,mod_2_fe,scaler,results_df = get_mod(test_name=\"2nd Feature Engineering\",df=results_df,fe=True,sub_name=\"2FE\")"
   ]
  },
  {
   "cell_type": "code",
   "execution_count": 35,
   "metadata": {},
   "outputs": [
    {
     "data": {
      "text/html": [
       "<div>\n",
       "<style scoped>\n",
       "    .dataframe tbody tr th:only-of-type {\n",
       "        vertical-align: middle;\n",
       "    }\n",
       "\n",
       "    .dataframe tbody tr th {\n",
       "        vertical-align: top;\n",
       "    }\n",
       "\n",
       "    .dataframe thead th {\n",
       "        text-align: right;\n",
       "    }\n",
       "</style>\n",
       "<table border=\"1\" class=\"dataframe\">\n",
       "  <thead>\n",
       "    <tr style=\"text-align: right;\">\n",
       "      <th></th>\n",
       "      <th>Test Name</th>\n",
       "      <th>Model used</th>\n",
       "      <th>Alpha</th>\n",
       "      <th>R-squared</th>\n",
       "      <th>Mean Absolute Error</th>\n",
       "    </tr>\n",
       "  </thead>\n",
       "  <tbody>\n",
       "    <tr>\n",
       "      <td>0</td>\n",
       "      <td>No Feature Engineering</td>\n",
       "      <td>ridge</td>\n",
       "      <td>250.4640</td>\n",
       "      <td>0.9025</td>\n",
       "      <td>16071.1293</td>\n",
       "    </tr>\n",
       "    <tr>\n",
       "      <td>1</td>\n",
       "      <td>1st Feature Engineering</td>\n",
       "      <td>ridge</td>\n",
       "      <td>289.4870</td>\n",
       "      <td>0.9025</td>\n",
       "      <td>15991.0874</td>\n",
       "    </tr>\n",
       "    <tr>\n",
       "      <td>2</td>\n",
       "      <td>2nd Feature Engineering</td>\n",
       "      <td>ridge</td>\n",
       "      <td>321.3835</td>\n",
       "      <td>0.9233</td>\n",
       "      <td>14407.5733</td>\n",
       "    </tr>\n",
       "  </tbody>\n",
       "</table>\n",
       "</div>"
      ],
      "text/plain": [
       "                 Test Name Model used    Alpha  R-squared  Mean Absolute Error\n",
       "0   No Feature Engineering      ridge 250.4640     0.9025           16071.1293\n",
       "1  1st Feature Engineering      ridge 289.4870     0.9025           15991.0874\n",
       "2  2nd Feature Engineering      ridge 321.3835     0.9233           14407.5733"
      ]
     },
     "execution_count": 35,
     "metadata": {},
     "output_type": "execute_result"
    }
   ],
   "source": [
    "results_df"
   ]
  },
  {
   "cell_type": "markdown",
   "metadata": {},
   "source": [
    "### Try implementing SKLEARN's Recursive Feature Elimination function to remove some features. Current model has 309 features, we will reduce this to 200 and see effect on R-squard & Mean Absolute Error"
   ]
  },
  {
   "cell_type": "code",
   "execution_count": 36,
   "metadata": {},
   "outputs": [],
   "source": [
    "def rfe_cols(n):\n",
    "    import warnings\n",
    "    warnings.filterwarnings('ignore')\n",
    "    from sklearn.feature_selection import RFE\n",
    "    selector = RFE(mod_2_fe,n ,step=1)\n",
    "    train = pd.read_csv('./data/train_final.csv')    \n",
    "    X = train[[c for c in train.columns if c != \"SalePrice\"]]\n",
    "    y = train['SalePrice']\n",
    "    X_train, X_test, y_train, y_test = train_test_split(X.values,y.values,test_size=0.2,random_state=42)\n",
    "    selector = selector.fit(X_train,y_train)\n",
    "    c = list(X.columns[selector.support_])\n",
    "    return c \n"
   ]
  },
  {
   "cell_type": "code",
   "execution_count": 37,
   "metadata": {},
   "outputs": [],
   "source": [
    "c = rfe_cols(200)\n",
    "df_RFE,mod_RFE,scaler,results_df = get_mod(test_name=\"Recursive Feaeture Elimination - 200\",df=results_df,fe=True,cols=c,sub_name=\"RFE\")"
   ]
  },
  {
   "cell_type": "code",
   "execution_count": 39,
   "metadata": {},
   "outputs": [
    {
     "data": {
      "text/html": [
       "<div>\n",
       "<style scoped>\n",
       "    .dataframe tbody tr th:only-of-type {\n",
       "        vertical-align: middle;\n",
       "    }\n",
       "\n",
       "    .dataframe tbody tr th {\n",
       "        vertical-align: top;\n",
       "    }\n",
       "\n",
       "    .dataframe thead th {\n",
       "        text-align: right;\n",
       "    }\n",
       "</style>\n",
       "<table border=\"1\" class=\"dataframe\">\n",
       "  <thead>\n",
       "    <tr style=\"text-align: right;\">\n",
       "      <th></th>\n",
       "      <th>Test Name</th>\n",
       "      <th>Model used</th>\n",
       "      <th>Alpha</th>\n",
       "      <th>R-squared</th>\n",
       "      <th>Mean Absolute Error</th>\n",
       "    </tr>\n",
       "  </thead>\n",
       "  <tbody>\n",
       "    <tr>\n",
       "      <td>0</td>\n",
       "      <td>No Feature Engineering</td>\n",
       "      <td>ridge</td>\n",
       "      <td>250.4640</td>\n",
       "      <td>0.9025</td>\n",
       "      <td>16071.1293</td>\n",
       "    </tr>\n",
       "    <tr>\n",
       "      <td>1</td>\n",
       "      <td>1st Feature Engineering</td>\n",
       "      <td>ridge</td>\n",
       "      <td>289.4870</td>\n",
       "      <td>0.9025</td>\n",
       "      <td>15991.0874</td>\n",
       "    </tr>\n",
       "    <tr>\n",
       "      <td>2</td>\n",
       "      <td>2nd Feature Engineering</td>\n",
       "      <td>ridge</td>\n",
       "      <td>321.3835</td>\n",
       "      <td>0.9233</td>\n",
       "      <td>14407.5733</td>\n",
       "    </tr>\n",
       "    <tr>\n",
       "      <td>3</td>\n",
       "      <td>Recursive Feaeture Elimination - 200</td>\n",
       "      <td>ridge</td>\n",
       "      <td>9.1011</td>\n",
       "      <td>0.8805</td>\n",
       "      <td>16587.5144</td>\n",
       "    </tr>\n",
       "  </tbody>\n",
       "</table>\n",
       "</div>"
      ],
      "text/plain": [
       "                              Test Name Model used    Alpha  R-squared  Mean Absolute Error\n",
       "0                No Feature Engineering      ridge 250.4640     0.9025           16071.1293\n",
       "1               1st Feature Engineering      ridge 289.4870     0.9025           15991.0874\n",
       "2               2nd Feature Engineering      ridge 321.3835     0.9233           14407.5733\n",
       "3  Recursive Feaeture Elimination - 200      ridge   9.1011     0.8805           16587.5144"
      ]
     },
     "execution_count": 39,
     "metadata": {},
     "output_type": "execute_result"
    }
   ],
   "source": [
    "results_df"
   ]
  },
  {
   "cell_type": "markdown",
   "metadata": {},
   "source": [
    "### Try 150 & 250 variables too"
   ]
  },
  {
   "cell_type": "code",
   "execution_count": 3,
   "metadata": {},
   "outputs": [
    {
     "ename": "NameError",
     "evalue": "name 'rfe_cols' is not defined",
     "output_type": "error",
     "traceback": [
      "\u001b[0;31m---------------------------------------------------------------------------\u001b[0m",
      "\u001b[0;31mNameError\u001b[0m                                 Traceback (most recent call last)",
      "\u001b[0;32m<ipython-input-3-571f225a8f17>\u001b[0m in \u001b[0;36m<module>\u001b[0;34m\u001b[0m\n\u001b[0;32m----> 1\u001b[0;31m \u001b[0mc\u001b[0m \u001b[0;34m=\u001b[0m \u001b[0mrfe_cols\u001b[0m\u001b[0;34m(\u001b[0m\u001b[0;36m150\u001b[0m\u001b[0;34m)\u001b[0m\u001b[0;34m\u001b[0m\u001b[0;34m\u001b[0m\u001b[0m\n\u001b[0m\u001b[1;32m      2\u001b[0m \u001b[0mdf_RFE150\u001b[0m\u001b[0;34m,\u001b[0m\u001b[0mmod_RFE150\u001b[0m\u001b[0;34m,\u001b[0m\u001b[0mscaler\u001b[0m\u001b[0;34m,\u001b[0m\u001b[0mresults_df\u001b[0m \u001b[0;34m=\u001b[0m \u001b[0mget_mod\u001b[0m\u001b[0;34m(\u001b[0m\u001b[0mtest_name\u001b[0m\u001b[0;34m=\u001b[0m\u001b[0;34m\"Recursive Feaeture Elimination - 150\"\u001b[0m\u001b[0;34m,\u001b[0m\u001b[0mdf\u001b[0m\u001b[0;34m=\u001b[0m\u001b[0mresults_df\u001b[0m\u001b[0;34m,\u001b[0m\u001b[0mfe\u001b[0m\u001b[0;34m=\u001b[0m\u001b[0;32mTrue\u001b[0m\u001b[0;34m,\u001b[0m\u001b[0mcols\u001b[0m\u001b[0;34m=\u001b[0m\u001b[0mc\u001b[0m\u001b[0;34m,\u001b[0m\u001b[0msub_name\u001b[0m\u001b[0;34m=\u001b[0m\u001b[0;34m\"RFE2\"\u001b[0m\u001b[0;34m)\u001b[0m\u001b[0;34m\u001b[0m\u001b[0;34m\u001b[0m\u001b[0m\n\u001b[1;32m      3\u001b[0m \u001b[0;34m\u001b[0m\u001b[0m\n\u001b[1;32m      4\u001b[0m \u001b[0;34m\u001b[0m\u001b[0m\n",
      "\u001b[0;31mNameError\u001b[0m: name 'rfe_cols' is not defined"
     ]
    }
   ],
   "source": [
    "c = rfe_cols(150)\n",
    "df_RFE150,mod_RFE150,scaler,results_df = get_mod(test_name=\"Recursive Feaeture Elimination - 150\",df=results_df,fe=True,cols=c,sub_name=\"RFE2\")\n",
    "\n",
    "\n"
   ]
  },
  {
   "cell_type": "code",
   "execution_count": 42,
   "metadata": {},
   "outputs": [],
   "source": [
    "c = rfe_cols(250)\n",
    "df_RFE250,mod_RFE250,scaler,results_df = get_mod(test_name=\"Recursive Feaeture Elimination - 250\",df=results_df,fe=True,cols=c,sub_name=\"RFE3\")\n"
   ]
  },
  {
   "cell_type": "code",
   "execution_count": 43,
   "metadata": {},
   "outputs": [
    {
     "data": {
      "text/html": [
       "<div>\n",
       "<style scoped>\n",
       "    .dataframe tbody tr th:only-of-type {\n",
       "        vertical-align: middle;\n",
       "    }\n",
       "\n",
       "    .dataframe tbody tr th {\n",
       "        vertical-align: top;\n",
       "    }\n",
       "\n",
       "    .dataframe thead th {\n",
       "        text-align: right;\n",
       "    }\n",
       "</style>\n",
       "<table border=\"1\" class=\"dataframe\">\n",
       "  <thead>\n",
       "    <tr style=\"text-align: right;\">\n",
       "      <th></th>\n",
       "      <th>Test Name</th>\n",
       "      <th>Model used</th>\n",
       "      <th>Alpha</th>\n",
       "      <th>R-squared</th>\n",
       "      <th>Mean Absolute Error</th>\n",
       "    </tr>\n",
       "  </thead>\n",
       "  <tbody>\n",
       "    <tr>\n",
       "      <td>0</td>\n",
       "      <td>No Feature Engineering</td>\n",
       "      <td>ridge</td>\n",
       "      <td>250.4640</td>\n",
       "      <td>0.9025</td>\n",
       "      <td>16071.1293</td>\n",
       "    </tr>\n",
       "    <tr>\n",
       "      <td>1</td>\n",
       "      <td>1st Feature Engineering</td>\n",
       "      <td>ridge</td>\n",
       "      <td>289.4870</td>\n",
       "      <td>0.9025</td>\n",
       "      <td>15991.0874</td>\n",
       "    </tr>\n",
       "    <tr>\n",
       "      <td>2</td>\n",
       "      <td>2nd Feature Engineering</td>\n",
       "      <td>ridge</td>\n",
       "      <td>321.3835</td>\n",
       "      <td>0.9233</td>\n",
       "      <td>14407.5733</td>\n",
       "    </tr>\n",
       "    <tr>\n",
       "      <td>3</td>\n",
       "      <td>Recursive Feaeture Elimination - 200</td>\n",
       "      <td>ridge</td>\n",
       "      <td>9.1011</td>\n",
       "      <td>0.8805</td>\n",
       "      <td>16587.5144</td>\n",
       "    </tr>\n",
       "    <tr>\n",
       "      <td>4</td>\n",
       "      <td>Recursive Feaeture Elimination - 150</td>\n",
       "      <td>ridge</td>\n",
       "      <td>1.0797</td>\n",
       "      <td>0.8846</td>\n",
       "      <td>16292.8619</td>\n",
       "    </tr>\n",
       "    <tr>\n",
       "      <td>5</td>\n",
       "      <td>Recursive Feaeture Elimination - 250</td>\n",
       "      <td>ridge</td>\n",
       "      <td>3.5818</td>\n",
       "      <td>0.9132</td>\n",
       "      <td>15178.3269</td>\n",
       "    </tr>\n",
       "  </tbody>\n",
       "</table>\n",
       "</div>"
      ],
      "text/plain": [
       "                              Test Name Model used    Alpha  R-squared  Mean Absolute Error\n",
       "0                No Feature Engineering      ridge 250.4640     0.9025           16071.1293\n",
       "1               1st Feature Engineering      ridge 289.4870     0.9025           15991.0874\n",
       "2               2nd Feature Engineering      ridge 321.3835     0.9233           14407.5733\n",
       "3  Recursive Feaeture Elimination - 200      ridge   9.1011     0.8805           16587.5144\n",
       "4  Recursive Feaeture Elimination - 150      ridge   1.0797     0.8846           16292.8619\n",
       "5  Recursive Feaeture Elimination - 250      ridge   3.5818     0.9132           15178.3269"
      ]
     },
     "execution_count": 43,
     "metadata": {},
     "output_type": "execute_result"
    }
   ],
   "source": [
    "results_df"
   ]
  },
  {
   "cell_type": "markdown",
   "metadata": {},
   "source": [
    "### Add Kaggle submission results to our results dataframe"
   ]
  },
  {
   "cell_type": "code",
   "execution_count": 44,
   "metadata": {},
   "outputs": [],
   "source": [
    "results_df['Public Score'] = \"\"\n",
    "results_df['Private Score'] = \"\""
   ]
  },
  {
   "cell_type": "code",
   "execution_count": 45,
   "metadata": {},
   "outputs": [],
   "source": [
    "results_df.loc[0,\"Public Score\"] = 29427\n",
    "results_df.loc[0,\"Private Score\"] = 30164"
   ]
  },
  {
   "cell_type": "code",
   "execution_count": 46,
   "metadata": {},
   "outputs": [],
   "source": [
    "results_df.loc[1,\"Public Score\"] = 29207\n",
    "results_df.loc[1,\"Private Score\"] = 30160"
   ]
  },
  {
   "cell_type": "code",
   "execution_count": 47,
   "metadata": {},
   "outputs": [],
   "source": [
    "results_df.loc[2,\"Public Score\"] = 23529\n",
    "results_df.loc[2,\"Private Score\"] = 32005"
   ]
  },
  {
   "cell_type": "code",
   "execution_count": 48,
   "metadata": {},
   "outputs": [],
   "source": [
    "results_df.loc[2,\"Public Score\"] = 23529\n",
    "results_df.loc[2,\"Private Score\"] = 32005"
   ]
  },
  {
   "cell_type": "code",
   "execution_count": 49,
   "metadata": {},
   "outputs": [],
   "source": [
    "results_df.loc[3,\"Public Score\"] = 28388\n",
    "results_df.loc[3,\"Private Score\"] = 27568"
   ]
  },
  {
   "cell_type": "code",
   "execution_count": 50,
   "metadata": {},
   "outputs": [],
   "source": [
    "results_df.loc[4,\"Public Score\"] = 28395\n",
    "results_df.loc[4,\"Private Score\"] = 27219"
   ]
  },
  {
   "cell_type": "code",
   "execution_count": 51,
   "metadata": {},
   "outputs": [],
   "source": [
    "results_df.loc[5,\"Public Score\"] = 25830\n",
    "results_df.loc[5,\"Private Score\"] = 28446"
   ]
  },
  {
   "cell_type": "code",
   "execution_count": 52,
   "metadata": {},
   "outputs": [
    {
     "data": {
      "text/html": [
       "<div>\n",
       "<style scoped>\n",
       "    .dataframe tbody tr th:only-of-type {\n",
       "        vertical-align: middle;\n",
       "    }\n",
       "\n",
       "    .dataframe tbody tr th {\n",
       "        vertical-align: top;\n",
       "    }\n",
       "\n",
       "    .dataframe thead th {\n",
       "        text-align: right;\n",
       "    }\n",
       "</style>\n",
       "<table border=\"1\" class=\"dataframe\">\n",
       "  <thead>\n",
       "    <tr style=\"text-align: right;\">\n",
       "      <th></th>\n",
       "      <th>Test Name</th>\n",
       "      <th>Model used</th>\n",
       "      <th>Alpha</th>\n",
       "      <th>R-squared</th>\n",
       "      <th>Mean Absolute Error</th>\n",
       "      <th>Public Score</th>\n",
       "      <th>Private Score</th>\n",
       "    </tr>\n",
       "  </thead>\n",
       "  <tbody>\n",
       "    <tr>\n",
       "      <td>0</td>\n",
       "      <td>No Feature Engineering</td>\n",
       "      <td>ridge</td>\n",
       "      <td>250.4640</td>\n",
       "      <td>0.9025</td>\n",
       "      <td>16071.1293</td>\n",
       "      <td>29427</td>\n",
       "      <td>30164</td>\n",
       "    </tr>\n",
       "    <tr>\n",
       "      <td>1</td>\n",
       "      <td>1st Feature Engineering</td>\n",
       "      <td>ridge</td>\n",
       "      <td>289.4870</td>\n",
       "      <td>0.9025</td>\n",
       "      <td>15991.0874</td>\n",
       "      <td>29207</td>\n",
       "      <td>30160</td>\n",
       "    </tr>\n",
       "    <tr>\n",
       "      <td>2</td>\n",
       "      <td>2nd Feature Engineering</td>\n",
       "      <td>ridge</td>\n",
       "      <td>321.3835</td>\n",
       "      <td>0.9233</td>\n",
       "      <td>14407.5733</td>\n",
       "      <td>23529</td>\n",
       "      <td>32005</td>\n",
       "    </tr>\n",
       "    <tr>\n",
       "      <td>3</td>\n",
       "      <td>Recursive Feaeture Elimination - 200</td>\n",
       "      <td>ridge</td>\n",
       "      <td>9.1011</td>\n",
       "      <td>0.8805</td>\n",
       "      <td>16587.5144</td>\n",
       "      <td>28388</td>\n",
       "      <td>27568</td>\n",
       "    </tr>\n",
       "    <tr>\n",
       "      <td>4</td>\n",
       "      <td>Recursive Feaeture Elimination - 150</td>\n",
       "      <td>ridge</td>\n",
       "      <td>1.0797</td>\n",
       "      <td>0.8846</td>\n",
       "      <td>16292.8619</td>\n",
       "      <td>28395</td>\n",
       "      <td>27219</td>\n",
       "    </tr>\n",
       "    <tr>\n",
       "      <td>5</td>\n",
       "      <td>Recursive Feaeture Elimination - 250</td>\n",
       "      <td>ridge</td>\n",
       "      <td>3.5818</td>\n",
       "      <td>0.9132</td>\n",
       "      <td>15178.3269</td>\n",
       "      <td>25830</td>\n",
       "      <td>28446</td>\n",
       "    </tr>\n",
       "  </tbody>\n",
       "</table>\n",
       "</div>"
      ],
      "text/plain": [
       "                              Test Name Model used    Alpha  R-squared  Mean Absolute Error  Public Score  Private Score\n",
       "0                No Feature Engineering      ridge 250.4640     0.9025           16071.1293         29427          30164\n",
       "1               1st Feature Engineering      ridge 289.4870     0.9025           15991.0874         29207          30160\n",
       "2               2nd Feature Engineering      ridge 321.3835     0.9233           14407.5733         23529          32005\n",
       "3  Recursive Feaeture Elimination - 200      ridge   9.1011     0.8805           16587.5144         28388          27568\n",
       "4  Recursive Feaeture Elimination - 150      ridge   1.0797     0.8846           16292.8619         28395          27219\n",
       "5  Recursive Feaeture Elimination - 250      ridge   3.5818     0.9132           15178.3269         25830          28446"
      ]
     },
     "execution_count": 52,
     "metadata": {},
     "output_type": "execute_result"
    }
   ],
   "source": [
    "results_df"
   ]
  },
  {
   "cell_type": "code",
   "execution_count": 186,
   "metadata": {},
   "outputs": [],
   "source": [
    "final_model_df = pd.DataFrame(columns=[\"Test Name\",\"Model used\",\"Alpha\",\"R-squared\",\"Mean Absolute Error\"])\n",
    "df_RFE150,final_mod,final_scaler,results_df = get_mod(test_name=\"Recursive Feaeture Elimination150\",df=final_model_df,fe=True,cols=rfe_cols(150),sub_name=\"RFE2\")\n"
   ]
  },
  {
   "cell_type": "markdown",
   "metadata": {},
   "source": [
    "The Kaggle scores are pretty good. The best model for the private score places in the top 10 and for the public scores it's in the top 30. The model that scores the best for the public score, fares the worst in the private score. According to Kaggle, the public score is based on 30% of the test data while the private score is based on the other 70%"
   ]
  },
  {
   "cell_type": "markdown",
   "metadata": {},
   "source": [
    "#### The Recursive Feature Elminiation model which reduced the no. of features to 150 fared the best on the Private score category on Kaggle. Strangely, this model had the 2nd lowest R-square & Meant Absolute Error scores of all the models i created"
   ]
  },
  {
   "cell_type": "markdown",
   "metadata": {},
   "source": [
    "#### Every iteration returned Ridge Regression as the best model for predicting sales prices"
   ]
  },
  {
   "cell_type": "code",
   "execution_count": 2,
   "metadata": {},
   "outputs": [
    {
     "ename": "NameError",
     "evalue": "name 'mod_RFE150' is not defined",
     "output_type": "error",
     "traceback": [
      "\u001b[0;31m---------------------------------------------------------------------------\u001b[0m",
      "\u001b[0;31mNameError\u001b[0m                                 Traceback (most recent call last)",
      "\u001b[0;32m<ipython-input-2-ed2509ac183d>\u001b[0m in \u001b[0;36m<module>\u001b[0;34m\u001b[0m\n\u001b[0;32m----> 1\u001b[0;31m \u001b[0mmod_RFE150\u001b[0m\u001b[0;34m\u001b[0m\u001b[0;34m\u001b[0m\u001b[0m\n\u001b[0m",
      "\u001b[0;31mNameError\u001b[0m: name 'mod_RFE150' is not defined"
     ]
    }
   ],
   "source": [
    "mod_RFE150"
   ]
  },
  {
   "cell_type": "code",
   "execution_count": null,
   "metadata": {},
   "outputs": [],
   "source": []
  }
 ],
 "metadata": {
  "kernelspec": {
   "display_name": "Python 3",
   "language": "python",
   "name": "python3"
  },
  "language_info": {
   "codemirror_mode": {
    "name": "ipython",
    "version": 3
   },
   "file_extension": ".py",
   "mimetype": "text/x-python",
   "name": "python",
   "nbconvert_exporter": "python",
   "pygments_lexer": "ipython3",
   "version": "3.7.4"
  }
 },
 "nbformat": 4,
 "nbformat_minor": 2
}
